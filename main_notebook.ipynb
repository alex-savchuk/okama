{
 "cells": [
  {
   "cell_type": "code",
   "execution_count": 1,
   "metadata": {
    "collapsed": true
   },
   "outputs": [],
   "source": [
    "from pathlib import Path\n",
    "\n",
    "import numpy as np\n",
    "import pandas as pd\n",
    "\n",
    "import matplotlib.pyplot as plt\n",
    "import matplotlib.image as image\n",
    "import matplotlib.dates as mdates\n",
    "\n",
    "plt.rcParams[\"figure.figsize\"] = [12.0, 6.0]\n",
    "\n",
    "import okama as ok\n",
    "\n",
    "pd.options.display.float_format = \"{:,.5f}\".format\n",
    "np.set_printoptions(precision=5)\n",
    "\n",
    "%load_ext autoreload\n",
    "%autoreload 2"
   ]
  },
  {
   "cell_type": "code",
   "execution_count": 2,
   "metadata": {
    "collapsed": false
   },
   "outputs": [
    {
     "data": {
      "text/plain": [
       "'1.3.1'"
      ]
     },
     "execution_count": 2,
     "metadata": {},
     "output_type": "execute_result"
    }
   ],
   "source": [
    "ok.__version__"
   ]
  },
  {
   "cell_type": "code",
   "execution_count": 3,
   "metadata": {
    "collapsed": false
   },
   "outputs": [
    {
     "data": {
      "text/plain": [
       "{'CBR': 'Central Banks official currency exchange rates',\n",
       " 'CC': 'Cryptocurrency pairs with USD',\n",
       " 'COMM': 'Commodities prices',\n",
       " 'FX': 'FOREX currency market',\n",
       " 'INDX': 'Indexes',\n",
       " 'INFL': 'Inflation',\n",
       " 'LSE': 'London Stock Exchange',\n",
       " 'MOEX': 'Moscow Exchange',\n",
       " 'PIF': 'Russian open-end mutual funds',\n",
       " 'RATE': 'Bank deposit rates',\n",
       " 'RATIO': 'Financial ratios',\n",
       " 'RE': 'Real estate prices',\n",
       " 'US': 'US Stock Exchanges and mutual funds',\n",
       " 'XAMS': 'Euronext Amsterdam',\n",
       " 'XETR': 'XETRA Exchange',\n",
       " 'XFRA': 'Frankfurt Stock Exchange',\n",
       " 'XSTU': 'Stuttgart Exchange',\n",
       " 'XTAE': 'Tel Aviv Stock Exchange (TASE)'}"
      ]
     },
     "execution_count": 3,
     "metadata": {},
     "output_type": "execute_result"
    }
   ],
   "source": [
    "ok.namespaces"
   ]
  },
  {
   "cell_type": "code",
   "execution_count": 4,
   "metadata": {
    "collapsed": false
   },
   "outputs": [
    {
     "data": {
      "text/html": [
       "<div>\n",
       "<style scoped>\n",
       "    .dataframe tbody tr th:only-of-type {\n",
       "        vertical-align: middle;\n",
       "    }\n",
       "\n",
       "    .dataframe tbody tr th {\n",
       "        vertical-align: top;\n",
       "    }\n",
       "\n",
       "    .dataframe thead th {\n",
       "        text-align: right;\n",
       "    }\n",
       "</style>\n",
       "<table border=\"1\" class=\"dataframe\">\n",
       "  <thead>\n",
       "    <tr style=\"text-align: right;\">\n",
       "      <th></th>\n",
       "      <th>symbol</th>\n",
       "      <th>ticker</th>\n",
       "      <th>name</th>\n",
       "      <th>country</th>\n",
       "      <th>exchange</th>\n",
       "      <th>currency</th>\n",
       "      <th>type</th>\n",
       "      <th>isin</th>\n",
       "    </tr>\n",
       "  </thead>\n",
       "  <tbody>\n",
       "    <tr>\n",
       "      <th>0</th>\n",
       "      <td>ABIO.MOEX</td>\n",
       "      <td>ABIO</td>\n",
       "      <td>ARTGEN</td>\n",
       "      <td>Russia</td>\n",
       "      <td>MOEX</td>\n",
       "      <td>RUB</td>\n",
       "      <td>Common Stock</td>\n",
       "      <td></td>\n",
       "    </tr>\n",
       "    <tr>\n",
       "      <th>1</th>\n",
       "      <td>ABRD.MOEX</td>\n",
       "      <td>ABRD</td>\n",
       "      <td>Abrau Durso OAO</td>\n",
       "      <td>Russia</td>\n",
       "      <td>MOEX</td>\n",
       "      <td>RUB</td>\n",
       "      <td>Common Stock</td>\n",
       "      <td>RU000A0JS5T7</td>\n",
       "    </tr>\n",
       "    <tr>\n",
       "      <th>2</th>\n",
       "      <td>ACKO.MOEX</td>\n",
       "      <td>ACKO</td>\n",
       "      <td>Public joint-stock company Asko-Strakhovanie</td>\n",
       "      <td>Russia</td>\n",
       "      <td>MOEX</td>\n",
       "      <td>RUB</td>\n",
       "      <td>Common Stock</td>\n",
       "      <td>RU000A0JXS91</td>\n",
       "    </tr>\n",
       "    <tr>\n",
       "      <th>3</th>\n",
       "      <td>AFKS.MOEX</td>\n",
       "      <td>AFKS</td>\n",
       "      <td>AFK Sistema</td>\n",
       "      <td>Russia</td>\n",
       "      <td>MOEX</td>\n",
       "      <td>RUB</td>\n",
       "      <td>Common Stock</td>\n",
       "      <td>RU000A0DQZE3</td>\n",
       "    </tr>\n",
       "    <tr>\n",
       "      <th>4</th>\n",
       "      <td>AFLT.MOEX</td>\n",
       "      <td>AFLT</td>\n",
       "      <td>Aeroflot</td>\n",
       "      <td>Russia</td>\n",
       "      <td>MOEX</td>\n",
       "      <td>RUB</td>\n",
       "      <td>Common Stock</td>\n",
       "      <td>RU0009062285</td>\n",
       "    </tr>\n",
       "    <tr>\n",
       "      <th>...</th>\n",
       "      <td>...</td>\n",
       "      <td>...</td>\n",
       "      <td>...</td>\n",
       "      <td>...</td>\n",
       "      <td>...</td>\n",
       "      <td>...</td>\n",
       "      <td>...</td>\n",
       "      <td>...</td>\n",
       "    </tr>\n",
       "    <tr>\n",
       "      <th>347</th>\n",
       "      <td>YRSB.MOEX</td>\n",
       "      <td>YRSB</td>\n",
       "      <td>TNS Energo Yaroslavl PAO</td>\n",
       "      <td>Russia</td>\n",
       "      <td>MOEX</td>\n",
       "      <td>RUB</td>\n",
       "      <td>Common Stock</td>\n",
       "      <td>RU000A0D8760</td>\n",
       "    </tr>\n",
       "    <tr>\n",
       "      <th>348</th>\n",
       "      <td>YRSBP.MOEX</td>\n",
       "      <td>YRSBP</td>\n",
       "      <td>Public Joint Stock Company TNS Energo Yaroslav...</td>\n",
       "      <td>Russia</td>\n",
       "      <td>MOEX</td>\n",
       "      <td>RUB</td>\n",
       "      <td>Common Stock</td>\n",
       "      <td></td>\n",
       "    </tr>\n",
       "    <tr>\n",
       "      <th>349</th>\n",
       "      <td>YUAN.MOEX</td>\n",
       "      <td>YUAN</td>\n",
       "      <td>YUAN Bonds ETF</td>\n",
       "      <td>Russia</td>\n",
       "      <td>MOEX</td>\n",
       "      <td>RUB</td>\n",
       "      <td>ETF</td>\n",
       "      <td></td>\n",
       "    </tr>\n",
       "    <tr>\n",
       "      <th>350</th>\n",
       "      <td>ZILL.MOEX</td>\n",
       "      <td>ZILL</td>\n",
       "      <td>AMO ZIL PAO</td>\n",
       "      <td>Russia</td>\n",
       "      <td>MOEX</td>\n",
       "      <td>RUB</td>\n",
       "      <td>Common Stock</td>\n",
       "      <td>RU0009086193</td>\n",
       "    </tr>\n",
       "    <tr>\n",
       "      <th>351</th>\n",
       "      <td>ZVEZ.MOEX</td>\n",
       "      <td>ZVEZ</td>\n",
       "      <td>Zvezda OAO</td>\n",
       "      <td>Russia</td>\n",
       "      <td>MOEX</td>\n",
       "      <td>RUB</td>\n",
       "      <td>Common Stock</td>\n",
       "      <td>RU0009091300</td>\n",
       "    </tr>\n",
       "  </tbody>\n",
       "</table>\n",
       "<p>352 rows × 8 columns</p>\n",
       "</div>"
      ],
      "text/plain": [
       "         symbol ticker                                               name  \\\n",
       "0     ABIO.MOEX   ABIO                                             ARTGEN   \n",
       "1     ABRD.MOEX   ABRD                                    Abrau Durso OAO   \n",
       "2     ACKO.MOEX   ACKO       Public joint-stock company Asko-Strakhovanie   \n",
       "3     AFKS.MOEX   AFKS                                        AFK Sistema   \n",
       "4     AFLT.MOEX   AFLT                                           Aeroflot   \n",
       "..          ...    ...                                                ...   \n",
       "347   YRSB.MOEX   YRSB                           TNS Energo Yaroslavl PAO   \n",
       "348  YRSBP.MOEX  YRSBP  Public Joint Stock Company TNS Energo Yaroslav...   \n",
       "349   YUAN.MOEX   YUAN                                     YUAN Bonds ETF   \n",
       "350   ZILL.MOEX   ZILL                                        AMO ZIL PAO   \n",
       "351   ZVEZ.MOEX   ZVEZ                                         Zvezda OAO   \n",
       "\n",
       "    country exchange currency          type          isin  \n",
       "0    Russia     MOEX      RUB  Common Stock                \n",
       "1    Russia     MOEX      RUB  Common Stock  RU000A0JS5T7  \n",
       "2    Russia     MOEX      RUB  Common Stock  RU000A0JXS91  \n",
       "3    Russia     MOEX      RUB  Common Stock  RU000A0DQZE3  \n",
       "4    Russia     MOEX      RUB  Common Stock  RU0009062285  \n",
       "..      ...      ...      ...           ...           ...  \n",
       "347  Russia     MOEX      RUB  Common Stock  RU000A0D8760  \n",
       "348  Russia     MOEX      RUB  Common Stock                \n",
       "349  Russia     MOEX      RUB           ETF                \n",
       "350  Russia     MOEX      RUB  Common Stock  RU0009086193  \n",
       "351  Russia     MOEX      RUB  Common Stock  RU0009091300  \n",
       "\n",
       "[352 rows x 8 columns]"
      ]
     },
     "execution_count": 4,
     "metadata": {},
     "output_type": "execute_result"
    }
   ],
   "source": [
    "ok.symbols_in_namespace(namespace=\"MOEX\")"
   ]
  },
  {
   "cell_type": "markdown",
   "metadata": {},
   "source": [
    "## Rolling risk"
   ]
  },
  {
   "cell_type": "code",
   "execution_count": 30,
   "metadata": {},
   "outputs": [
    {
     "data": {
      "text/plain": [
       "assets                [SP500TR.INDX]\n",
       "currency                         USD\n",
       "first_date                   1988-02\n",
       "last_date                    2023-12\n",
       "period_length    35 years, 11 months\n",
       "inflation                   USD.INFL\n",
       "dtype: object"
      ]
     },
     "execution_count": 30,
     "metadata": {},
     "output_type": "execute_result"
    }
   ],
   "source": [
    "al = ok.AssetList(['SP500TR.INDX'])\n",
    "al"
   ]
  },
  {
   "cell_type": "code",
   "execution_count": 31,
   "metadata": {},
   "outputs": [
    {
     "data": {
      "text/plain": [
       "Symbols\n",
       "SP500TR.INDX   0.16476\n",
       "dtype: float64"
      ]
     },
     "execution_count": 31,
     "metadata": {},
     "output_type": "execute_result"
    }
   ],
   "source": [
    "al.risk_annual"
   ]
  },
  {
   "cell_type": "code",
   "execution_count": 32,
   "metadata": {},
   "outputs": [
    {
     "data": {
      "text/html": [
       "<div>\n",
       "<style scoped>\n",
       "    .dataframe tbody tr th:only-of-type {\n",
       "        vertical-align: middle;\n",
       "    }\n",
       "\n",
       "    .dataframe tbody tr th {\n",
       "        vertical-align: top;\n",
       "    }\n",
       "\n",
       "    .dataframe thead th {\n",
       "        text-align: right;\n",
       "    }\n",
       "</style>\n",
       "<table border=\"1\" class=\"dataframe\">\n",
       "  <thead>\n",
       "    <tr style=\"text-align: right;\">\n",
       "      <th>Symbols</th>\n",
       "      <th>SP500TR.INDX</th>\n",
       "      <th>SP500TR.INDX</th>\n",
       "    </tr>\n",
       "    <tr>\n",
       "      <th>date</th>\n",
       "      <th></th>\n",
       "      <th></th>\n",
       "    </tr>\n",
       "  </thead>\n",
       "  <tbody>\n",
       "    <tr>\n",
       "      <th>1988-03</th>\n",
       "      <td>0.05480</td>\n",
       "      <td>0.00785</td>\n",
       "    </tr>\n",
       "    <tr>\n",
       "      <th>1988-04</th>\n",
       "      <td>0.03880</td>\n",
       "      <td>0.00893</td>\n",
       "    </tr>\n",
       "    <tr>\n",
       "      <th>1988-05</th>\n",
       "      <td>0.03168</td>\n",
       "      <td>0.00885</td>\n",
       "    </tr>\n",
       "    <tr>\n",
       "      <th>1988-06</th>\n",
       "      <td>0.03205</td>\n",
       "      <td>0.01626</td>\n",
       "    </tr>\n",
       "    <tr>\n",
       "      <th>1988-07</th>\n",
       "      <td>0.02981</td>\n",
       "      <td>0.01292</td>\n",
       "    </tr>\n",
       "    <tr>\n",
       "      <th>...</th>\n",
       "      <td>...</td>\n",
       "      <td>...</td>\n",
       "    </tr>\n",
       "    <tr>\n",
       "      <th>2023-08</th>\n",
       "      <td>0.04251</td>\n",
       "      <td>0.00945</td>\n",
       "    </tr>\n",
       "    <tr>\n",
       "      <th>2023-09</th>\n",
       "      <td>0.04255</td>\n",
       "      <td>0.00931</td>\n",
       "    </tr>\n",
       "    <tr>\n",
       "      <th>2023-10</th>\n",
       "      <td>0.04252</td>\n",
       "      <td>0.00924</td>\n",
       "    </tr>\n",
       "    <tr>\n",
       "      <th>2023-11</th>\n",
       "      <td>0.04266</td>\n",
       "      <td>0.00944</td>\n",
       "    </tr>\n",
       "    <tr>\n",
       "      <th>2023-12</th>\n",
       "      <td>0.04264</td>\n",
       "      <td>0.00952</td>\n",
       "    </tr>\n",
       "  </tbody>\n",
       "</table>\n",
       "<p>430 rows × 2 columns</p>\n",
       "</div>"
      ],
      "text/plain": [
       "Symbols  SP500TR.INDX  SP500TR.INDX\n",
       "date                               \n",
       "1988-03       0.05480       0.00785\n",
       "1988-04       0.03880       0.00893\n",
       "1988-05       0.03168       0.00885\n",
       "1988-06       0.03205       0.01626\n",
       "1988-07       0.02981       0.01292\n",
       "...               ...           ...\n",
       "2023-08       0.04251       0.00945\n",
       "2023-09       0.04255       0.00931\n",
       "2023-10       0.04252       0.00924\n",
       "2023-11       0.04266       0.00944\n",
       "2023-12       0.04264       0.00952\n",
       "\n",
       "[430 rows x 2 columns]"
      ]
     },
     "execution_count": 32,
     "metadata": {},
     "output_type": "execute_result"
    }
   ],
   "source": [
    "df = pd.concat([al.assets_ror.expanding().std(), al.assets_ror.expanding().mean()], axis=1)\n",
    "df=df.iloc[1:]\n",
    "df"
   ]
  },
  {
   "cell_type": "code",
   "execution_count": 20,
   "metadata": {},
   "outputs": [],
   "source": [
    "from okama.common.helpers import helpers"
   ]
  },
  {
   "cell_type": "code",
   "execution_count": 33,
   "metadata": {},
   "outputs": [
    {
     "data": {
      "text/plain": [
       "date\n",
       "1988-03   0.20858\n",
       "1988-04   0.14881\n",
       "1988-05   0.12123\n",
       "1988-06   0.13293\n",
       "1988-07   0.11921\n",
       "            ...  \n",
       "2023-08   0.16410\n",
       "2023-09   0.16402\n",
       "2023-10   0.16380\n",
       "2023-11   0.16466\n",
       "2023-12   0.16476\n",
       "Freq: M, Name: SP500TR.INDX, Length: 430, dtype: float64"
      ]
     },
     "execution_count": 33,
     "metadata": {},
     "output_type": "execute_result"
    }
   ],
   "source": [
    "helpers.Float.annualize_risk(df.iloc[:, 0], df.iloc[:, 1])"
   ]
  },
  {
   "cell_type": "code",
   "execution_count": 34,
   "metadata": {},
   "outputs": [
    {
     "data": {
      "text/plain": [
       "<Axes: xlabel='date'>"
      ]
     },
     "execution_count": 34,
     "metadata": {},
     "output_type": "execute_result"
    },
    {
     "data": {
      "image/png": "[encoded data removed]",
      "text/plain": [
       "<Figure size 1200x800 with 1 Axes>"
      ]
     },
     "metadata": {},
     "output_type": "display_data"
    }
   ],
   "source": [
    "helpers.Float.annualize_risk(df.iloc[:, 0], df.iloc[:, 1]).plot()"
   ]
  },
  {
   "cell_type": "code",
   "execution_count": 35,
   "metadata": {},
   "outputs": [
    {
     "data": {
      "text/html": [
       "<div>\n",
       "<style scoped>\n",
       "    .dataframe tbody tr th:only-of-type {\n",
       "        vertical-align: middle;\n",
       "    }\n",
       "\n",
       "    .dataframe tbody tr th {\n",
       "        vertical-align: top;\n",
       "    }\n",
       "\n",
       "    .dataframe thead th {\n",
       "        text-align: right;\n",
       "    }\n",
       "</style>\n",
       "<table border=\"1\" class=\"dataframe\">\n",
       "  <thead>\n",
       "    <tr style=\"text-align: right;\">\n",
       "      <th>Symbols</th>\n",
       "      <th>SP500TR.INDX</th>\n",
       "    </tr>\n",
       "    <tr>\n",
       "      <th>date</th>\n",
       "      <th></th>\n",
       "    </tr>\n",
       "  </thead>\n",
       "  <tbody>\n",
       "    <tr>\n",
       "      <th>1998-01</th>\n",
       "      <td>0.14115</td>\n",
       "    </tr>\n",
       "    <tr>\n",
       "      <th>1998-02</th>\n",
       "      <td>0.14261</td>\n",
       "    </tr>\n",
       "    <tr>\n",
       "      <th>1998-03</th>\n",
       "      <td>0.14329</td>\n",
       "    </tr>\n",
       "    <tr>\n",
       "      <th>1998-04</th>\n",
       "      <td>0.14328</td>\n",
       "    </tr>\n",
       "    <tr>\n",
       "      <th>1998-05</th>\n",
       "      <td>0.14344</td>\n",
       "    </tr>\n",
       "    <tr>\n",
       "      <th>...</th>\n",
       "      <td>...</td>\n",
       "    </tr>\n",
       "    <tr>\n",
       "      <th>2023-08</th>\n",
       "      <td>0.16845</td>\n",
       "    </tr>\n",
       "    <tr>\n",
       "      <th>2023-09</th>\n",
       "      <td>0.16840</td>\n",
       "    </tr>\n",
       "    <tr>\n",
       "      <th>2023-10</th>\n",
       "      <td>0.16725</td>\n",
       "    </tr>\n",
       "    <tr>\n",
       "      <th>2023-11</th>\n",
       "      <td>0.17053</td>\n",
       "    </tr>\n",
       "    <tr>\n",
       "      <th>2023-12</th>\n",
       "      <td>0.17122</td>\n",
       "    </tr>\n",
       "  </tbody>\n",
       "</table>\n",
       "<p>312 rows × 1 columns</p>\n",
       "</div>"
      ],
      "text/plain": [
       "Symbols  SP500TR.INDX\n",
       "date                 \n",
       "1998-01       0.14115\n",
       "1998-02       0.14261\n",
       "1998-03       0.14329\n",
       "1998-04       0.14328\n",
       "1998-05       0.14344\n",
       "...               ...\n",
       "2023-08       0.16845\n",
       "2023-09       0.16840\n",
       "2023-10       0.16725\n",
       "2023-11       0.17053\n",
       "2023-12       0.17122\n",
       "\n",
       "[312 rows x 1 columns]"
      ]
     },
     "execution_count": 35,
     "metadata": {},
     "output_type": "execute_result"
    }
   ],
   "source": [
    "helpers.Float.annualize_risk(al.assets_ror.rolling(12*10).std(), al.assets_ror.rolling(12*10).mean()).dropna()"
   ]
  },
  {
   "cell_type": "code",
   "execution_count": 48,
   "metadata": {},
   "outputs": [
    {
     "data": {
      "text/plain": [
       "Text(0.5, 1.0, 'Годовой риск (стандартное отклонение доходности). Скользящая 10 лет')"
      ]
     },
     "execution_count": 48,
     "metadata": {},
     "output_type": "execute_result"
    },
    {
     "data": {
      "image/png": "[encoded data removed]",
      "text/plain": [
       "<Figure size 1200x800 with 1 Axes>"
      ]
     },
     "metadata": {},
     "output_type": "display_data"
    }
   ],
   "source": [
    "window = 12*10\n",
    "(helpers.Float.annualize_risk(al.assets_ror.rolling(window).std(), al.assets_ror.rolling(window).mean()).dropna() * 100).plot()\n",
    "plt.ylim(0, 20)\n",
    "plt.xlabel(\"\")\n",
    "plt.legend([\"Индекс S&P 500 TR\"])\n",
    "plt.title(\"Годовой риск (стандартное отклонение доходности). Скользящая 10 лет\")"
   ]
  },
  {
   "cell_type": "markdown",
   "metadata": {
    "collapsed": false
   },
   "source": [
    "## Dividends"
   ]
  },
  {
   "cell_type": "code",
   "execution_count": 5,
   "metadata": {
    "collapsed": false
   },
   "outputs": [
    {
     "data": {
      "text/plain": [
       "assets           [SBERP.MOEX, LKOH.MOEX]\n",
       "currency                             RUB\n",
       "first_date                       2006-09\n",
       "last_date                        2023-12\n",
       "period_length         17 years, 4 months\n",
       "inflation                       RUB.INFL\n",
       "dtype: object"
      ]
     },
     "execution_count": 5,
     "metadata": {},
     "output_type": "execute_result"
    }
   ],
   "source": [
    "al = ok.AssetList([\"SBERP.MOEX\", \"LKOH.MOEX\"], ccy=\"RUB\")\n",
    "al"
   ]
  },
  {
   "cell_type": "code",
   "execution_count": 6,
   "metadata": {
    "collapsed": false
   },
   "outputs": [
    {
     "data": {
      "text/html": [
       "<div>\n",
       "<style scoped>\n",
       "    .dataframe tbody tr th:only-of-type {\n",
       "        vertical-align: middle;\n",
       "    }\n",
       "\n",
       "    .dataframe tbody tr th {\n",
       "        vertical-align: top;\n",
       "    }\n",
       "\n",
       "    .dataframe thead th {\n",
       "        text-align: right;\n",
       "    }\n",
       "</style>\n",
       "<table border=\"1\" class=\"dataframe\">\n",
       "  <thead>\n",
       "    <tr style=\"text-align: right;\">\n",
       "      <th></th>\n",
       "      <th>SBERP.MOEX</th>\n",
       "      <th>LKOH.MOEX</th>\n",
       "    </tr>\n",
       "  </thead>\n",
       "  <tbody>\n",
       "    <tr>\n",
       "      <th>2006</th>\n",
       "      <td>0.00000</td>\n",
       "      <td>0.00000</td>\n",
       "    </tr>\n",
       "    <tr>\n",
       "      <th>2007</th>\n",
       "      <td>0.46500</td>\n",
       "      <td>38.00000</td>\n",
       "    </tr>\n",
       "    <tr>\n",
       "      <th>2008</th>\n",
       "      <td>0.65000</td>\n",
       "      <td>42.00000</td>\n",
       "    </tr>\n",
       "    <tr>\n",
       "      <th>2009</th>\n",
       "      <td>0.63000</td>\n",
       "      <td>50.00000</td>\n",
       "    </tr>\n",
       "    <tr>\n",
       "      <th>2010</th>\n",
       "      <td>0.45000</td>\n",
       "      <td>52.00000</td>\n",
       "    </tr>\n",
       "    <tr>\n",
       "      <th>2011</th>\n",
       "      <td>1.15000</td>\n",
       "      <td>59.00000</td>\n",
       "    </tr>\n",
       "    <tr>\n",
       "      <th>2012</th>\n",
       "      <td>2.59000</td>\n",
       "      <td>115.00000</td>\n",
       "    </tr>\n",
       "    <tr>\n",
       "      <th>2013</th>\n",
       "      <td>3.20000</td>\n",
       "      <td>100.00000</td>\n",
       "    </tr>\n",
       "    <tr>\n",
       "      <th>2014</th>\n",
       "      <td>3.20000</td>\n",
       "      <td>120.00000</td>\n",
       "    </tr>\n",
       "    <tr>\n",
       "      <th>2015</th>\n",
       "      <td>0.45000</td>\n",
       "      <td>159.00000</td>\n",
       "    </tr>\n",
       "    <tr>\n",
       "      <th>2016</th>\n",
       "      <td>1.97000</td>\n",
       "      <td>187.00000</td>\n",
       "    </tr>\n",
       "    <tr>\n",
       "      <th>2017</th>\n",
       "      <td>6.00000</td>\n",
       "      <td>205.00000</td>\n",
       "    </tr>\n",
       "    <tr>\n",
       "      <th>2018</th>\n",
       "      <td>12.00000</td>\n",
       "      <td>225.00000</td>\n",
       "    </tr>\n",
       "    <tr>\n",
       "      <th>2019</th>\n",
       "      <td>16.00000</td>\n",
       "      <td>347.00000</td>\n",
       "    </tr>\n",
       "    <tr>\n",
       "      <th>2020</th>\n",
       "      <td>18.70000</td>\n",
       "      <td>396.00000</td>\n",
       "    </tr>\n",
       "    <tr>\n",
       "      <th>2021</th>\n",
       "      <td>18.70000</td>\n",
       "      <td>553.00000</td>\n",
       "    </tr>\n",
       "    <tr>\n",
       "      <th>2022</th>\n",
       "      <td>0.00000</td>\n",
       "      <td>793.00000</td>\n",
       "    </tr>\n",
       "    <tr>\n",
       "      <th>2023</th>\n",
       "      <td>25.00000</td>\n",
       "      <td>1,290.56000</td>\n",
       "    </tr>\n",
       "  </tbody>\n",
       "</table>\n",
       "</div>"
      ],
      "text/plain": [
       "      SBERP.MOEX   LKOH.MOEX\n",
       "2006     0.00000     0.00000\n",
       "2007     0.46500    38.00000\n",
       "2008     0.65000    42.00000\n",
       "2009     0.63000    50.00000\n",
       "2010     0.45000    52.00000\n",
       "2011     1.15000    59.00000\n",
       "2012     2.59000   115.00000\n",
       "2013     3.20000   100.00000\n",
       "2014     3.20000   120.00000\n",
       "2015     0.45000   159.00000\n",
       "2016     1.97000   187.00000\n",
       "2017     6.00000   205.00000\n",
       "2018    12.00000   225.00000\n",
       "2019    16.00000   347.00000\n",
       "2020    18.70000   396.00000\n",
       "2021    18.70000   553.00000\n",
       "2022     0.00000   793.00000\n",
       "2023    25.00000 1,290.56000"
      ]
     },
     "execution_count": 6,
     "metadata": {},
     "output_type": "execute_result"
    }
   ],
   "source": [
    "al.dividends_annual"
   ]
  },
  {
   "cell_type": "code",
   "execution_count": 8,
   "metadata": {
    "collapsed": false
   },
   "outputs": [
    {
     "data": {
      "text/html": [
       "<div>\n",
       "<style scoped>\n",
       "    .dataframe tbody tr th:only-of-type {\n",
       "        vertical-align: middle;\n",
       "    }\n",
       "\n",
       "    .dataframe tbody tr th {\n",
       "        vertical-align: top;\n",
       "    }\n",
       "\n",
       "    .dataframe thead th {\n",
       "        text-align: right;\n",
       "    }\n",
       "</style>\n",
       "<table border=\"1\" class=\"dataframe\">\n",
       "  <thead>\n",
       "    <tr style=\"text-align: right;\">\n",
       "      <th></th>\n",
       "      <th>SBERP.MOEX</th>\n",
       "      <th>LKOH.MOEX</th>\n",
       "    </tr>\n",
       "  </thead>\n",
       "  <tbody>\n",
       "    <tr>\n",
       "      <th>2006-09</th>\n",
       "      <td>0.00000</td>\n",
       "      <td>0.00000</td>\n",
       "    </tr>\n",
       "    <tr>\n",
       "      <th>2006-10</th>\n",
       "      <td>0.00000</td>\n",
       "      <td>0.00000</td>\n",
       "    </tr>\n",
       "    <tr>\n",
       "      <th>2006-11</th>\n",
       "      <td>0.00000</td>\n",
       "      <td>0.00000</td>\n",
       "    </tr>\n",
       "    <tr>\n",
       "      <th>2006-12</th>\n",
       "      <td>0.00000</td>\n",
       "      <td>0.00000</td>\n",
       "    </tr>\n",
       "    <tr>\n",
       "      <th>2007-01</th>\n",
       "      <td>0.00000</td>\n",
       "      <td>0.00000</td>\n",
       "    </tr>\n",
       "    <tr>\n",
       "      <th>...</th>\n",
       "      <td>...</td>\n",
       "      <td>...</td>\n",
       "    </tr>\n",
       "    <tr>\n",
       "      <th>2023-08</th>\n",
       "      <td>0.09425</td>\n",
       "      <td>0.22437</td>\n",
       "    </tr>\n",
       "    <tr>\n",
       "      <th>2023-09</th>\n",
       "      <td>0.09580</td>\n",
       "      <td>0.22950</td>\n",
       "    </tr>\n",
       "    <tr>\n",
       "      <th>2023-10</th>\n",
       "      <td>0.09320</td>\n",
       "      <td>0.21406</td>\n",
       "    </tr>\n",
       "    <tr>\n",
       "      <th>2023-11</th>\n",
       "      <td>0.09058</td>\n",
       "      <td>0.21095</td>\n",
       "    </tr>\n",
       "    <tr>\n",
       "      <th>2023-12</th>\n",
       "      <td>0.09173</td>\n",
       "      <td>0.19069</td>\n",
       "    </tr>\n",
       "  </tbody>\n",
       "</table>\n",
       "<p>208 rows × 2 columns</p>\n",
       "</div>"
      ],
      "text/plain": [
       "         SBERP.MOEX  LKOH.MOEX\n",
       "2006-09     0.00000    0.00000\n",
       "2006-10     0.00000    0.00000\n",
       "2006-11     0.00000    0.00000\n",
       "2006-12     0.00000    0.00000\n",
       "2007-01     0.00000    0.00000\n",
       "...             ...        ...\n",
       "2023-08     0.09425    0.22437\n",
       "2023-09     0.09580    0.22950\n",
       "2023-10     0.09320    0.21406\n",
       "2023-11     0.09058    0.21095\n",
       "2023-12     0.09173    0.19069\n",
       "\n",
       "[208 rows x 2 columns]"
      ]
     },
     "execution_count": 8,
     "metadata": {},
     "output_type": "execute_result"
    }
   ],
   "source": [
    "al.dividend_yield"
   ]
  },
  {
   "cell_type": "code",
   "execution_count": 9,
   "metadata": {
    "collapsed": false
   },
   "outputs": [
    {
     "data": {
      "text/html": [
       "<div>\n",
       "<style scoped>\n",
       "    .dataframe tbody tr th:only-of-type {\n",
       "        vertical-align: middle;\n",
       "    }\n",
       "\n",
       "    .dataframe tbody tr th {\n",
       "        vertical-align: top;\n",
       "    }\n",
       "\n",
       "    .dataframe thead th {\n",
       "        text-align: right;\n",
       "    }\n",
       "</style>\n",
       "<table border=\"1\" class=\"dataframe\">\n",
       "  <thead>\n",
       "    <tr style=\"text-align: right;\">\n",
       "      <th></th>\n",
       "      <th>SBERP.MOEX</th>\n",
       "      <th>LKOH.MOEX</th>\n",
       "    </tr>\n",
       "  </thead>\n",
       "  <tbody>\n",
       "    <tr>\n",
       "      <th>2006</th>\n",
       "      <td>0.00000</td>\n",
       "      <td>0.00000</td>\n",
       "    </tr>\n",
       "    <tr>\n",
       "      <th>2007</th>\n",
       "      <td>0.00667</td>\n",
       "      <td>0.01834</td>\n",
       "    </tr>\n",
       "    <tr>\n",
       "      <th>2008</th>\n",
       "      <td>0.07174</td>\n",
       "      <td>0.04368</td>\n",
       "    </tr>\n",
       "    <tr>\n",
       "      <th>2009</th>\n",
       "      <td>0.00913</td>\n",
       "      <td>0.02952</td>\n",
       "    </tr>\n",
       "    <tr>\n",
       "      <th>2010</th>\n",
       "      <td>0.00599</td>\n",
       "      <td>0.02985</td>\n",
       "    </tr>\n",
       "    <tr>\n",
       "      <th>2011</th>\n",
       "      <td>0.01943</td>\n",
       "      <td>0.03469</td>\n",
       "    </tr>\n",
       "    <tr>\n",
       "      <th>2012</th>\n",
       "      <td>0.03848</td>\n",
       "      <td>0.05749</td>\n",
       "    </tr>\n",
       "    <tr>\n",
       "      <th>2013</th>\n",
       "      <td>0.03999</td>\n",
       "      <td>0.04902</td>\n",
       "    </tr>\n",
       "    <tr>\n",
       "      <th>2014</th>\n",
       "      <td>0.08488</td>\n",
       "      <td>0.05393</td>\n",
       "    </tr>\n",
       "    <tr>\n",
       "      <th>2015</th>\n",
       "      <td>0.00588</td>\n",
       "      <td>0.06778</td>\n",
       "    </tr>\n",
       "    <tr>\n",
       "      <th>2016</th>\n",
       "      <td>0.01518</td>\n",
       "      <td>0.05422</td>\n",
       "    </tr>\n",
       "    <tr>\n",
       "      <th>2017</th>\n",
       "      <td>0.03175</td>\n",
       "      <td>0.06148</td>\n",
       "    </tr>\n",
       "    <tr>\n",
       "      <th>2018</th>\n",
       "      <td>0.07221</td>\n",
       "      <td>0.04503</td>\n",
       "    </tr>\n",
       "    <tr>\n",
       "      <th>2019</th>\n",
       "      <td>0.07008</td>\n",
       "      <td>0.05625</td>\n",
       "    </tr>\n",
       "    <tr>\n",
       "      <th>2020</th>\n",
       "      <td>0.07768</td>\n",
       "      <td>0.07663</td>\n",
       "    </tr>\n",
       "    <tr>\n",
       "      <th>2021</th>\n",
       "      <td>0.06723</td>\n",
       "      <td>0.08417</td>\n",
       "    </tr>\n",
       "    <tr>\n",
       "      <th>2022</th>\n",
       "      <td>0.00000</td>\n",
       "      <td>0.19472</td>\n",
       "    </tr>\n",
       "    <tr>\n",
       "      <th>2023</th>\n",
       "      <td>0.09173</td>\n",
       "      <td>0.19069</td>\n",
       "    </tr>\n",
       "  </tbody>\n",
       "</table>\n",
       "</div>"
      ],
      "text/plain": [
       "      SBERP.MOEX  LKOH.MOEX\n",
       "2006     0.00000    0.00000\n",
       "2007     0.00667    0.01834\n",
       "2008     0.07174    0.04368\n",
       "2009     0.00913    0.02952\n",
       "2010     0.00599    0.02985\n",
       "2011     0.01943    0.03469\n",
       "2012     0.03848    0.05749\n",
       "2013     0.03999    0.04902\n",
       "2014     0.08488    0.05393\n",
       "2015     0.00588    0.06778\n",
       "2016     0.01518    0.05422\n",
       "2017     0.03175    0.06148\n",
       "2018     0.07221    0.04503\n",
       "2019     0.07008    0.05625\n",
       "2020     0.07768    0.07663\n",
       "2021     0.06723    0.08417\n",
       "2022     0.00000    0.19472\n",
       "2023     0.09173    0.19069"
      ]
     },
     "execution_count": 9,
     "metadata": {},
     "output_type": "execute_result"
    }
   ],
   "source": [
    "al.dividend_yield_annual"
   ]
  },
  {
   "cell_type": "code",
   "execution_count": 11,
   "metadata": {
    "collapsed": false
   },
   "outputs": [
    {
     "data": {
      "text/html": [
       "<div>\n",
       "<style scoped>\n",
       "    .dataframe tbody tr th:only-of-type {\n",
       "        vertical-align: middle;\n",
       "    }\n",
       "\n",
       "    .dataframe tbody tr th {\n",
       "        vertical-align: top;\n",
       "    }\n",
       "\n",
       "    .dataframe thead th {\n",
       "        text-align: right;\n",
       "    }\n",
       "</style>\n",
       "<table border=\"1\" class=\"dataframe\">\n",
       "  <thead>\n",
       "    <tr style=\"text-align: right;\">\n",
       "      <th></th>\n",
       "      <th>SBERP.MOEX</th>\n",
       "      <th>LKOH.MOEX</th>\n",
       "    </tr>\n",
       "  </thead>\n",
       "  <tbody>\n",
       "    <tr>\n",
       "      <th>2006</th>\n",
       "      <td>0.00000</td>\n",
       "      <td>0.00000</td>\n",
       "    </tr>\n",
       "    <tr>\n",
       "      <th>2007</th>\n",
       "      <td>0.00667</td>\n",
       "      <td>0.01834</td>\n",
       "    </tr>\n",
       "    <tr>\n",
       "      <th>2008</th>\n",
       "      <td>0.07174</td>\n",
       "      <td>0.04368</td>\n",
       "    </tr>\n",
       "    <tr>\n",
       "      <th>2009</th>\n",
       "      <td>0.00913</td>\n",
       "      <td>0.02952</td>\n",
       "    </tr>\n",
       "    <tr>\n",
       "      <th>2010</th>\n",
       "      <td>0.00599</td>\n",
       "      <td>0.02985</td>\n",
       "    </tr>\n",
       "    <tr>\n",
       "      <th>2011</th>\n",
       "      <td>0.01943</td>\n",
       "      <td>0.03469</td>\n",
       "    </tr>\n",
       "    <tr>\n",
       "      <th>2012</th>\n",
       "      <td>0.03848</td>\n",
       "      <td>0.05749</td>\n",
       "    </tr>\n",
       "    <tr>\n",
       "      <th>2013</th>\n",
       "      <td>0.03999</td>\n",
       "      <td>0.04902</td>\n",
       "    </tr>\n",
       "    <tr>\n",
       "      <th>2014</th>\n",
       "      <td>0.08488</td>\n",
       "      <td>0.05393</td>\n",
       "    </tr>\n",
       "    <tr>\n",
       "      <th>2015</th>\n",
       "      <td>0.00588</td>\n",
       "      <td>0.06778</td>\n",
       "    </tr>\n",
       "    <tr>\n",
       "      <th>2016</th>\n",
       "      <td>0.01518</td>\n",
       "      <td>0.05422</td>\n",
       "    </tr>\n",
       "    <tr>\n",
       "      <th>2017</th>\n",
       "      <td>0.03175</td>\n",
       "      <td>0.06148</td>\n",
       "    </tr>\n",
       "    <tr>\n",
       "      <th>2018</th>\n",
       "      <td>0.07221</td>\n",
       "      <td>0.04503</td>\n",
       "    </tr>\n",
       "    <tr>\n",
       "      <th>2019</th>\n",
       "      <td>0.07008</td>\n",
       "      <td>0.05625</td>\n",
       "    </tr>\n",
       "    <tr>\n",
       "      <th>2020</th>\n",
       "      <td>0.07768</td>\n",
       "      <td>0.07663</td>\n",
       "    </tr>\n",
       "    <tr>\n",
       "      <th>2021</th>\n",
       "      <td>0.06723</td>\n",
       "      <td>0.08417</td>\n",
       "    </tr>\n",
       "    <tr>\n",
       "      <th>2022</th>\n",
       "      <td>0.00000</td>\n",
       "      <td>0.19472</td>\n",
       "    </tr>\n",
       "    <tr>\n",
       "      <th>2023</th>\n",
       "      <td>0.09173</td>\n",
       "      <td>0.19069</td>\n",
       "    </tr>\n",
       "  </tbody>\n",
       "</table>\n",
       "</div>"
      ],
      "text/plain": [
       "      SBERP.MOEX  LKOH.MOEX\n",
       "2006     0.00000    0.00000\n",
       "2007     0.00667    0.01834\n",
       "2008     0.07174    0.04368\n",
       "2009     0.00913    0.02952\n",
       "2010     0.00599    0.02985\n",
       "2011     0.01943    0.03469\n",
       "2012     0.03848    0.05749\n",
       "2013     0.03999    0.04902\n",
       "2014     0.08488    0.05393\n",
       "2015     0.00588    0.06778\n",
       "2016     0.01518    0.05422\n",
       "2017     0.03175    0.06148\n",
       "2018     0.07221    0.04503\n",
       "2019     0.07008    0.05625\n",
       "2020     0.07768    0.07663\n",
       "2021     0.06723    0.08417\n",
       "2022     0.00000    0.19472\n",
       "2023     0.09173    0.19069"
      ]
     },
     "execution_count": 11,
     "metadata": {},
     "output_type": "execute_result"
    }
   ],
   "source": [
    "al.dividend_yield.resample(rule=\"Y\").last()"
   ]
  },
  {
   "cell_type": "code",
   "execution_count": 12,
   "metadata": {
    "collapsed": false
   },
   "outputs": [
    {
     "data": {
      "text/plain": [
       "<Axes: >"
      ]
     },
     "execution_count": 12,
     "metadata": {},
     "output_type": "execute_result"
    },
    {
     "data": {
      "image/png": "[encoded data removed]",
      "text/plain": [
       "<Figure size 1200x800 with 1 Axes>"
      ]
     },
     "metadata": {},
     "output_type": "display_data"
    }
   ],
   "source": [
    "al.dividend_yield_annual.plot(kind=\"bar\")"
   ]
  },
  {
   "cell_type": "code",
   "execution_count": null,
   "metadata": {
    "collapsed": false
   },
   "outputs": [],
   "source": []
  },
  {
   "cell_type": "code",
   "execution_count": 13,
   "metadata": {
    "collapsed": false
   },
   "outputs": [
    {
     "data": {
      "text/plain": [
       "SBERP.MOEX   -1.00000\n",
       "LKOH.MOEX     0.28652\n",
       "dtype: float64"
      ]
     },
     "execution_count": 13,
     "metadata": {},
     "output_type": "execute_result"
    }
   ],
   "source": [
    "al.get_dividend_mean_growth_rate()"
   ]
  },
  {
   "cell_type": "code",
   "execution_count": 14,
   "metadata": {
    "collapsed": false
   },
   "outputs": [
    {
     "data": {
      "text/plain": [
       "SBERP.MOEX   0.05166\n",
       "LKOH.MOEX    0.08849\n",
       "dtype: float64"
      ]
     },
     "execution_count": 14,
     "metadata": {},
     "output_type": "execute_result"
    }
   ],
   "source": [
    "al.get_dividend_mean_yield(10)"
   ]
  },
  {
   "cell_type": "markdown",
   "metadata": {
    "collapsed": false
   },
   "source": [
    "## Plot Wealth"
   ]
  },
  {
   "cell_type": "code",
   "execution_count": 15,
   "metadata": {
    "collapsed": false
   },
   "outputs": [
    {
     "ename": "FileNotFoundError",
     "evalue": "[Errno 2] No such file or directory: 'C:\\\\Users\\\\Sergey\\\\OneDrive\\\\Изображения\\\\Рост Сбережений\\\\COVERS\\\\Logo\\\\RostSber\\\\2022\\\\rostsber_250x50.png'",
     "output_type": "error",
     "traceback": [
      "\u001b[1;31m---------------------------------------------------------------------------\u001b[0m",
      "\u001b[1;31mFileNotFoundError\u001b[0m                         Traceback (most recent call last)",
      "Cell \u001b[1;32mIn[15], line 3\u001b[0m\n\u001b[0;32m      1\u001b[0m data_folder \u001b[38;5;241m=\u001b[39m Path(\u001b[38;5;124mr\u001b[39m\u001b[38;5;124m\"\u001b[39m\u001b[38;5;124mC:\u001b[39m\u001b[38;5;124m\\\u001b[39m\u001b[38;5;124mUsers\u001b[39m\u001b[38;5;124m\\\u001b[39m\u001b[38;5;124mSergey\u001b[39m\u001b[38;5;124m\\\u001b[39m\u001b[38;5;124mOneDrive\u001b[39m\u001b[38;5;124m\\\u001b[39m\u001b[38;5;124mИзображения\u001b[39m\u001b[38;5;124m\\\u001b[39m\u001b[38;5;124mРост Сбережений\u001b[39m\u001b[38;5;124m\\\u001b[39m\u001b[38;5;124mCOVERS\u001b[39m\u001b[38;5;124m\\\u001b[39m\u001b[38;5;124mLogo\u001b[39m\u001b[38;5;124m\\\u001b[39m\u001b[38;5;124mRostSber\u001b[39m\u001b[38;5;124m\\\u001b[39m\u001b[38;5;124m2022\u001b[39m\u001b[38;5;124m\"\u001b[39m)\n\u001b[0;32m      2\u001b[0m file \u001b[38;5;241m=\u001b[39m data_folder \u001b[38;5;241m/\u001b[39m \u001b[38;5;124m\"\u001b[39m\u001b[38;5;124mrostsber_250x50.png\u001b[39m\u001b[38;5;124m\"\u001b[39m\n\u001b[1;32m----> 3\u001b[0m im \u001b[38;5;241m=\u001b[39m \u001b[43mimage\u001b[49m\u001b[38;5;241;43m.\u001b[39;49m\u001b[43mimread\u001b[49m\u001b[43m(\u001b[49m\u001b[43mfile\u001b[49m\u001b[43m)\u001b[49m\n",
      "File \u001b[1;32mc:\\Users\\Sergey\\AppData\\Local\\pypoetry\\Cache\\virtualenvs\\okama-sSdQ--z3-py3.11\\Lib\\site-packages\\matplotlib\\image.py:1525\u001b[0m, in \u001b[0;36mimread\u001b[1;34m(fname, format)\u001b[0m\n\u001b[0;32m   1518\u001b[0m \u001b[38;5;28;01mif\u001b[39;00m \u001b[38;5;28misinstance\u001b[39m(fname, \u001b[38;5;28mstr\u001b[39m) \u001b[38;5;129;01mand\u001b[39;00m \u001b[38;5;28mlen\u001b[39m(parse\u001b[38;5;241m.\u001b[39murlparse(fname)\u001b[38;5;241m.\u001b[39mscheme) \u001b[38;5;241m>\u001b[39m \u001b[38;5;241m1\u001b[39m:\n\u001b[0;32m   1519\u001b[0m     \u001b[38;5;66;03m# Pillow doesn't handle URLs directly.\u001b[39;00m\n\u001b[0;32m   1520\u001b[0m     \u001b[38;5;28;01mraise\u001b[39;00m \u001b[38;5;167;01mValueError\u001b[39;00m(\n\u001b[0;32m   1521\u001b[0m         \u001b[38;5;124m\"\u001b[39m\u001b[38;5;124mPlease open the URL for reading and pass the \u001b[39m\u001b[38;5;124m\"\u001b[39m\n\u001b[0;32m   1522\u001b[0m         \u001b[38;5;124m\"\u001b[39m\u001b[38;5;124mresult to Pillow, e.g. with \u001b[39m\u001b[38;5;124m\"\u001b[39m\n\u001b[0;32m   1523\u001b[0m         \u001b[38;5;124m\"\u001b[39m\u001b[38;5;124m``np.array(PIL.Image.open(urllib.request.urlopen(url)))``.\u001b[39m\u001b[38;5;124m\"\u001b[39m\n\u001b[0;32m   1524\u001b[0m         )\n\u001b[1;32m-> 1525\u001b[0m \u001b[38;5;28;01mwith\u001b[39;00m \u001b[43mimg_open\u001b[49m\u001b[43m(\u001b[49m\u001b[43mfname\u001b[49m\u001b[43m)\u001b[49m \u001b[38;5;28;01mas\u001b[39;00m image:\n\u001b[0;32m   1526\u001b[0m     \u001b[38;5;28;01mreturn\u001b[39;00m (_pil_png_to_float_array(image)\n\u001b[0;32m   1527\u001b[0m             \u001b[38;5;28;01mif\u001b[39;00m \u001b[38;5;28misinstance\u001b[39m(image, PIL\u001b[38;5;241m.\u001b[39mPngImagePlugin\u001b[38;5;241m.\u001b[39mPngImageFile) \u001b[38;5;28;01melse\u001b[39;00m\n\u001b[0;32m   1528\u001b[0m             pil_to_array(image))\n",
      "File \u001b[1;32mc:\\Users\\Sergey\\AppData\\Local\\pypoetry\\Cache\\virtualenvs\\okama-sSdQ--z3-py3.11\\Lib\\site-packages\\PIL\\ImageFile.py:125\u001b[0m, in \u001b[0;36mImageFile.__init__\u001b[1;34m(self, fp, filename)\u001b[0m\n\u001b[0;32m    121\u001b[0m \u001b[38;5;28mself\u001b[39m\u001b[38;5;241m.\u001b[39mdecodermaxblock \u001b[38;5;241m=\u001b[39m MAXBLOCK\n\u001b[0;32m    123\u001b[0m \u001b[38;5;28;01mif\u001b[39;00m is_path(fp):\n\u001b[0;32m    124\u001b[0m     \u001b[38;5;66;03m# filename\u001b[39;00m\n\u001b[1;32m--> 125\u001b[0m     \u001b[38;5;28mself\u001b[39m\u001b[38;5;241m.\u001b[39mfp \u001b[38;5;241m=\u001b[39m \u001b[38;5;28;43mopen\u001b[39;49m\u001b[43m(\u001b[49m\u001b[43mfp\u001b[49m\u001b[43m,\u001b[49m\u001b[43m \u001b[49m\u001b[38;5;124;43m\"\u001b[39;49m\u001b[38;5;124;43mrb\u001b[39;49m\u001b[38;5;124;43m\"\u001b[39;49m\u001b[43m)\u001b[49m\n\u001b[0;32m    126\u001b[0m     \u001b[38;5;28mself\u001b[39m\u001b[38;5;241m.\u001b[39mfilename \u001b[38;5;241m=\u001b[39m fp\n\u001b[0;32m    127\u001b[0m     \u001b[38;5;28mself\u001b[39m\u001b[38;5;241m.\u001b[39m_exclusive_fp \u001b[38;5;241m=\u001b[39m \u001b[38;5;28;01mTrue\u001b[39;00m\n",
      "\u001b[1;31mFileNotFoundError\u001b[0m: [Errno 2] No such file or directory: 'C:\\\\Users\\\\Sergey\\\\OneDrive\\\\Изображения\\\\Рост Сбережений\\\\COVERS\\\\Logo\\\\RostSber\\\\2022\\\\rostsber_250x50.png'"
     ]
    }
   ],
   "source": [
    "data_folder = Path(r\"C:\\Users\\Sergey\\OneDrive\\Изображения\\Рост Сбережений\\COVERS\\Logo\\RostSber\\2022\")\n",
    "file = data_folder / \"rostsber_250x50.png\"\n",
    "im = image.imread(file)"
   ]
  },
  {
   "cell_type": "code",
   "execution_count": 25,
   "metadata": {
    "collapsed": false
   },
   "outputs": [],
   "source": [
    "def plot_wealth(\n",
    "    al: object,\n",
    "    first_date: str,\n",
    "    last_date: str,\n",
    "    legend: list,\n",
    "    title: str = None,\n",
    "    logy: bool = False,\n",
    "    figsize: list = [12, 10],\n",
    "    watermark: bool = False,\n",
    "):\n",
    "    fig, ax = plt.subplots(figsize=figsize)\n",
    "    # fig.subplots_adjust(bottom=0.2, top=1.5)\n",
    "    first_date_dt = pd.to_datetime(first_date)\n",
    "    last_date_dt = pd.to_datetime(last_date)\n",
    "\n",
    "    wealth = al.wealth_indexes\n",
    "    wealth = wealth.loc[first_date:last_date, :]\n",
    "    index = wealth.index.to_timestamp()\n",
    "    min_value = wealth.to_numpy().min()\n",
    "    for i, asset in enumerate(wealth):\n",
    "        if i == len(wealth.columns) - 1:\n",
    "            # Inflation is in the last column\n",
    "            continue\n",
    "        ax.plot(index, wealth[asset], linewidth=2)\n",
    "    ax.fill_between(index, min_value, wealth.iloc[:, -1], facecolor=\"grey\", alpha=0.2, label=\"Инфляция\")\n",
    "\n",
    "    # Log scale\n",
    "    y_scale = \"log\" if logy else \"linear\"\n",
    "    ax.set_yscale(y_scale)\n",
    "\n",
    "    # границы графика\n",
    "    ax.set_xlim(first_date_dt, last_date_dt + pd.DateOffset(months=0))\n",
    "    ax.set_ylim(bottom=min_value)\n",
    "\n",
    "    # регулирования надписей оси Х\n",
    "    years = mdates.YearLocator()  # ежегодный формат\n",
    "    years_fmt = mdates.DateFormatter(\"%Y\")\n",
    "    # назначение формата надписей\n",
    "    ax.xaxis.set_major_locator(years)\n",
    "    ax.xaxis.set_major_formatter(years_fmt)\n",
    "\n",
    "    ax.legend(legend + [\"Инфляция\"], loc=\"upper left\")\n",
    "    ax.set_title(title)\n",
    "\n",
    "    # ax.set_ylabel('Инфляция за 12 месяцев, %')\n",
    "    if watermark:\n",
    "        fig.figimage(im, 740, 40, zorder=3, alpha=0.5)"
   ]
  },
  {
   "cell_type": "code",
   "execution_count": 26,
   "metadata": {
    "collapsed": false
   },
   "outputs": [
    {
     "data": {
      "text/plain": [
       "assets           [MCFTR.INDX, SP500TR.INDX]\n",
       "currency                                RUB\n",
       "first_date                          1997-10\n",
       "last_date                           2023-02\n",
       "period_length            25 years, 5 months\n",
       "inflation                              None\n",
       "dtype: object"
      ]
     },
     "execution_count": 26,
     "metadata": {},
     "output_type": "execute_result"
    }
   ],
   "source": [
    "stocks = ok.AssetList([\"MCFTR.INDX\", \"SP500TR.INDX\"], ccy=\"RUB\", inflation=False)\n",
    "stocks"
   ]
  },
  {
   "cell_type": "code",
   "execution_count": 27,
   "metadata": {
    "collapsed": false
   },
   "outputs": [
    {
     "data": {
      "image/png": "[encoded data removed]",
      "text/plain": [
       "<Figure size 1272.73x909.091 with 1 Axes>"
      ]
     },
     "metadata": {},
     "output_type": "display_data"
    }
   ],
   "source": [
    "plot_wealth(\n",
    "    al=stocks, first_date=\"2003-01\", figsize=(14 / 1.1, 10 / 1.1), last_date=\"2023-01\", legend=[\"Индекс ОФЗ\"], logy=True\n",
    ")"
   ]
  },
  {
   "cell_type": "code",
   "execution_count": null,
   "metadata": {
    "collapsed": false
   },
   "outputs": [],
   "source": []
  }
 ],
 "metadata": {
  "kernelspec": {
   "display_name": "okama3.11dev",
   "language": "python",
   "name": "okama3.11dev"
  },
  "language_info": {
   "codemirror_mode": {
    "name": "ipython",
    "version": 3
   },
   "file_extension": ".py",
   "mimetype": "text/x-python",
   "name": "python",
   "nbconvert_exporter": "python",
   "pygments_lexer": "ipython3",
   "version": "3.11.6"
  }
 },
 "nbformat": 4,
 "nbformat_minor": 0
}
